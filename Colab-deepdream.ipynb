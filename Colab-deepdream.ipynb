{
  "nbformat": 4,
  "nbformat_minor": 0,
  "metadata": {
    "colab": {
      "name": "Colab-deepdream.ipynb",
      "provenance": [],
      "private_outputs": true,
      "collapsed_sections": []
    },
    "kernelspec": {
      "name": "python3",
      "display_name": "Python 3"
    },
    "accelerator": "GPU"
  },
  "cells": [
    {
      "cell_type": "markdown",
      "metadata": {
        "id": "LUYQFBtsL2kE",
        "colab_type": "text"
      },
      "source": [
        "# Colab-deepdream\n",
        "It uses [gordicaleksa/pytorch-deepdream](https://github.com/gordicaleksa/pytorch-deepdream).\n",
        "\n",
        "My fork is located in [styler00dollar/Colab-deepdream](https://github.com/styler00dollar/Colab-deepdream)."
      ]
    },
    {
      "cell_type": "code",
      "metadata": {
        "id": "BYOnAD6nNq10",
        "colab_type": "code",
        "colab": {}
      },
      "source": [
        "!nvidia-smi"
      ],
      "execution_count": null,
      "outputs": []
    },
    {
      "cell_type": "code",
      "metadata": {
        "id": "7vxRe4vrK1Dn",
        "colab_type": "code",
        "colab": {}
      },
      "source": [
        "%cd /content/\n",
        "!git clone https://github.com/gordicaleksa/pytorch-deepdream\n",
        "%cd pytorch-deepdream"
      ],
      "execution_count": null,
      "outputs": []
    },
    {
      "cell_type": "markdown",
      "metadata": {
        "id": "O6WLmXY6LxeJ",
        "colab_type": "text"
      },
      "source": [
        "Place image in ```/content/image.png```. Result will be in ```/content/pytorch-deepdream/data/out-images/VGG16_EXPERIMENTAL_IMAGENET```.\n",
        "\n",
        "Commandline args seem to be broken and I couln't load ```alexanet```, ```googlenet``` and ```resnet```. You can switch between ```SupportedModels.VGG16``` and ```SupportedModels.VGG16_EXPERIMENTAL``` by changing the default in ```deepdream.py```."
      ]
    },
    {
      "cell_type": "code",
      "metadata": {
        "id": "3U6Tw6SsLvVq",
        "colab_type": "code",
        "colab": {}
      },
      "source": [
        "!python deepdream.py --input /content/image.png"
      ],
      "execution_count": null,
      "outputs": []
    }
  ]
}